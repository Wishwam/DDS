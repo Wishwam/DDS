{
  "nbformat": 4,
  "nbformat_minor": 0,
  "metadata": {
    "colab": {
      "provenance": [],
      "include_colab_link": true
    },
    "kernelspec": {
      "name": "python3",
      "display_name": "Python 3"
    },
    "language_info": {
      "name": "python"
    }
  },
  "cells": [
    {
      "cell_type": "markdown",
      "metadata": {
        "id": "view-in-github",
        "colab_type": "text"
      },
      "source": [
        "<a href=\"https://colab.research.google.com/github/Wishwam/DDS/blob/main/ddslab.ipynb\" target=\"_parent\"><img src=\"https://colab.research.google.com/assets/colab-badge.svg\" alt=\"Open In Colab\"/></a>"
      ]
    },
    {
      "cell_type": "code",
      "execution_count": null,
      "metadata": {
        "id": "RxFpe5hVRFo5"
      },
      "outputs": [],
      "source": [
        "from typing import List\n",
        "\n",
        "class Solution:\n",
        "    def removeElement(self, nums: List[int], val: int) -> int:\n",
        "        k=0\n",
        "        for i in range(len(nums)):\n",
        "            if nums[i] !=val:\n",
        "                nums[k] = nums[i]\n",
        "                k +=1\n",
        "        return k\n",
        "\n",
        "\n",
        "class Solution:\n",
        "    def pivotIndex(self, nums: List[int]) -> int:\n",
        "        t = sum(nums)\n",
        "        l_t=0\n",
        "        for i in range(len(nums)):\n",
        "            r_t = t-l_t-nums[i]\n",
        "            if r_t == l_t:\n",
        "                return i\n",
        "            l_t += nums[i]\n",
        "        return -1"
      ]
    },
    {
      "cell_type": "code",
      "source": [],
      "metadata": {
        "id": "SWUmft7PZPYt"
      },
      "execution_count": null,
      "outputs": []
    },
    {
      "cell_type": "code",
      "source": [
        "%%writefile Rgcd.cpp\n",
        "#include <iostream>\n",
        "using namespace std;\n",
        "int gcd(int a, int b) {\n",
        "    if (b == 0)\n",
        "        return a;\n",
        "    return gcd(b, a % b);\n",
        "}\n",
        "int main() {\n",
        "    int a = 66, b = 18;\n",
        "    cout << \"GCD of \" << a << \" and \" << b << \" is: \" << gcd(a, b) << endl;\n",
        "    return 0;\n",
        "}"
      ],
      "metadata": {
        "colab": {
          "base_uri": "https://localhost:8080/"
        },
        "id": "IfwFugkAeBrF",
        "outputId": "c201586e-1974-4b62-cb39-06aa7c959f71"
      },
      "execution_count": null,
      "outputs": [
        {
          "output_type": "stream",
          "name": "stdout",
          "text": [
            "Overwriting Rgcd.cpp\n"
          ]
        }
      ]
    },
    {
      "cell_type": "code",
      "source": [
        "!g++ Rgcd.cpp"
      ],
      "metadata": {
        "id": "saQuPc-Ces8t"
      },
      "execution_count": null,
      "outputs": []
    },
    {
      "cell_type": "code",
      "source": [
        "!./a.out"
      ],
      "metadata": {
        "colab": {
          "base_uri": "https://localhost:8080/"
        },
        "id": "Gu-dN_F7fGW9",
        "outputId": "8fbb9b58-f827-4679-ad8a-1785c7d8e292"
      },
      "execution_count": null,
      "outputs": [
        {
          "output_type": "stream",
          "name": "stdout",
          "text": [
            "GCD of 66 and 18 is: 6\n"
          ]
        }
      ]
    },
    {
      "cell_type": "code",
      "source": [
        "%%writefile RCB.cpp\n",
        "#include <iostream>\n",
        "#include <stack>\n",
        "#include <cctype>\n",
        "using namespace std;\n",
        "int evaluate_postfix(string expr){\n",
        "    stack<int> st;\n",
        "    for (char ch : expr) {\n",
        "        if (isdigit(ch)) {\n",
        "            st.push(ch - '0');\n",
        "        } else {\n",
        "            int b = st.top(); st.pop();\n",
        "            int a = st.top(); st.pop();\n",
        "            switch (ch) {\n",
        "                case '+': st.push(a + b); break;\n",
        "                case '-': st.push(a - b); break;\n",
        "                case '*': st.push(a * b); break;\n",
        "                case '/': st.push(a / b); break;\n",
        "            }\n",
        "        }\n",
        "    }\n",
        "    return st.top();\n",
        "}\n",
        "int main() {\n",
        "    string expr = \"53+62/*\";\n",
        "    cout << \"Postfix Expression: \" << expr << endl;\n",
        "    cout << \"Evaluated Result  : \" << evaluate_postfix(expr) << endl;\n",
        "    return 0;\n",
        "}\n",
        "\n"
      ],
      "metadata": {
        "id": "rcJb0sqeh-nE",
        "outputId": "4e90b1a2-9a52-4778-d6cc-56888a3a1df4",
        "colab": {
          "base_uri": "https://localhost:8080/"
        }
      },
      "execution_count": null,
      "outputs": [
        {
          "output_type": "stream",
          "name": "stdout",
          "text": [
            "Writing RCB.cpp\n"
          ]
        }
      ]
    },
    {
      "cell_type": "code",
      "source": [
        "!g++ RCB.cpp"
      ],
      "metadata": {
        "id": "VbVsBdHDi9H7"
      },
      "execution_count": null,
      "outputs": []
    },
    {
      "cell_type": "code",
      "source": [
        "!./a.out"
      ],
      "metadata": {
        "id": "iYagq5Q4kZC7",
        "outputId": "408fab74-ee1e-42a4-8f4d-25a8f8639e58",
        "colab": {
          "base_uri": "https://localhost:8080/"
        }
      },
      "execution_count": null,
      "outputs": [
        {
          "output_type": "stream",
          "name": "stdout",
          "text": [
            "Postfix Expression: 53+62/*\n",
            "Evaluated Result  : 24\n"
          ]
        }
      ]
    },
    {
      "cell_type": "code",
      "source": [
        "%%writefile hanoi.cpp\n",
        "#include <iostream>\n",
        "using namespace std;\n",
        "\n",
        "void hanoi(int n, char source, char destination, char auxillary) {\n",
        "  if (n==1){\n",
        "    cout << \"Move disk 1 from \" << source << \"to\"<< destination << endl;\n",
        "    return;\n",
        "  }\n",
        "  hanoi(n-1, source, auxillary, destination);\n",
        "  cout <<\"Move disk\" << n << \"from\" << source << \"to\" << destination << endl;\n",
        "  hanoi(n-1, auxillary, destination, source);\n",
        "}\n",
        "\n",
        "int main() {\n",
        "  int n = 5;\n",
        "  cout <<\"Tower of Hanoi (c++) - steps for\" << n << \"disks:\" << endl << endl;\n",
        "  hanoi(n, 'A', 'C', 'B');\n",
        "  return 0;\n",
        "}"
      ],
      "metadata": {
        "colab": {
          "base_uri": "https://localhost:8080/"
        },
        "id": "bwYi8QwGZNlV",
        "outputId": "094ae920-9b41-43eb-abe8-37393f2730ea"
      },
      "execution_count": 7,
      "outputs": [
        {
          "output_type": "stream",
          "name": "stdout",
          "text": [
            "Overwriting hanoi.cpp\n"
          ]
        }
      ]
    },
    {
      "cell_type": "code",
      "source": [
        "\n",
        "!g++ hanoi.cpp\n"
      ],
      "metadata": {
        "id": "L6rutfqta5tc"
      },
      "execution_count": 8,
      "outputs": []
    },
    {
      "cell_type": "code",
      "source": [
        "!./a.out"
      ],
      "metadata": {
        "colab": {
          "base_uri": "https://localhost:8080/"
        },
        "id": "TWKqWr_8bZKE",
        "outputId": "8fd83abf-e465-4901-9f51-e068117e6c09"
      },
      "execution_count": 9,
      "outputs": [
        {
          "output_type": "stream",
          "name": "stdout",
          "text": [
            "Tower of Hanoi (c++) - steps for5disks:\n",
            "\n",
            "Move disk 1 from AtoC\n",
            "Move disk2fromAtoB\n",
            "Move disk 1 from CtoB\n",
            "Move disk3fromAtoC\n",
            "Move disk 1 from BtoA\n",
            "Move disk2fromBtoC\n",
            "Move disk 1 from AtoC\n",
            "Move disk4fromAtoB\n",
            "Move disk 1 from CtoB\n",
            "Move disk2fromCtoA\n",
            "Move disk 1 from BtoA\n",
            "Move disk3fromCtoB\n",
            "Move disk 1 from AtoC\n",
            "Move disk2fromAtoB\n",
            "Move disk 1 from CtoB\n",
            "Move disk5fromAtoC\n",
            "Move disk 1 from BtoA\n",
            "Move disk2fromBtoC\n",
            "Move disk 1 from AtoC\n",
            "Move disk3fromBtoA\n",
            "Move disk 1 from CtoB\n",
            "Move disk2fromCtoA\n",
            "Move disk 1 from BtoA\n",
            "Move disk4fromBtoC\n",
            "Move disk 1 from AtoC\n",
            "Move disk2fromAtoB\n",
            "Move disk 1 from CtoB\n",
            "Move disk3fromAtoC\n",
            "Move disk 1 from BtoA\n",
            "Move disk2fromBtoC\n",
            "Move disk 1 from AtoC\n"
          ]
        }
      ]
    },
    {
      "cell_type": "code",
      "source": [
        "%%writefile queue.cpp\n",
        "#include <iostream>\n",
        "#define SIZE 5\n",
        "using namespace std;\n",
        "\n",
        "class Queue {\n",
        "    int arr[SIZE], front, rear;\n",
        "public:\n",
        "    Queue() {\n",
        "        front = rear = -1;\n",
        "    }\n",
        "\n",
        "    void enqueue(int val) {\n",
        "        if ((rear + 1) % SIZE == front) {\n",
        "            cout << \"Queue Overflow\\n\";\n",
        "            return;\n",
        "        }\n",
        "        if (front == -1) front = 0;\n",
        "        rear = (rear + 1) % SIZE;\n",
        "        arr[rear] = val;\n",
        "    }\n",
        "\n",
        "    void dequeue() {\n",
        "        if (front == -1) {\n",
        "            cout << \"Queue Underflow\\n\";\n",
        "            return;\n",
        "        }\n",
        "        cout << \"Dequeued: \" <<arr[front] << endl;\n",
        "        if (front == rear)\n",
        "            front = rear = -1;\n",
        "        else\n",
        "            front = (front + 1) % SIZE;\n",
        "    }\n",
        "    void traverse(){\n",
        "        if (front == -1) {\n",
        "            cout << \"Queue is empty\\n\";\n",
        "            return;\n",
        "        }\n",
        "        cout << \"Queue: \";\n",
        "        int i = front;\n",
        "        while (true) {\n",
        "            cout << arr[i] << \" \";\n",
        "            if (i == rear) break;\n",
        "            i = (i + 1) % SIZE;\n",
        "        }\n",
        "        cout << endl;\n",
        "    }\n",
        "\n",
        "    void search(int key) {\n",
        "        if (front == -1) {\n",
        "            cout << \"Queue is empty\\n\";\n",
        "            return;\n",
        "        }\n",
        "        int i = front;\n",
        "        while (true) {\n",
        "            if (arr[i] == key) {\n",
        "                cout << \"Element \" << key << \" found at index \" << i << endl;\n",
        "                return;\n",
        "            }\n",
        "            if (i == rear) break;\n",
        "            i = (i + 1) % SIZE;\n",
        "        }\n",
        "        cout << \"Element not found\\n\";\n",
        "    }\n",
        "};\n",
        "\n",
        "int main() {\n",
        "    Queue q;\n",
        "    q.enqueue(10);\n",
        "    q.enqueue(20);\n",
        "    q.enqueue(30);\n",
        "    q.traverse();\n",
        "    q.dequeue();\n",
        "    q.traverse();\n",
        "    q.search(20);\n",
        "    q.search(99);\n",
        "    return 0;\n",
        "}\n"
      ],
      "metadata": {
        "id": "K5NgWtG6hnnq",
        "outputId": "444f3953-529b-418d-af45-ae3cebe08c0f",
        "colab": {
          "base_uri": "https://localhost:8080/"
        }
      },
      "execution_count": 15,
      "outputs": [
        {
          "output_type": "stream",
          "name": "stdout",
          "text": [
            "Overwriting queue.cpp\n"
          ]
        }
      ]
    },
    {
      "cell_type": "code",
      "source": [
        "!g++ queue.cpp"
      ],
      "metadata": {
        "id": "m8Z4h9silmVi"
      },
      "execution_count": 16,
      "outputs": []
    },
    {
      "cell_type": "code",
      "source": [
        "!./a.out"
      ],
      "metadata": {
        "id": "hnAJYIDImpi4",
        "outputId": "feea104d-2cff-465f-f922-ecba9cdd7588",
        "colab": {
          "base_uri": "https://localhost:8080/"
        }
      },
      "execution_count": 18,
      "outputs": [
        {
          "output_type": "stream",
          "name": "stdout",
          "text": [
            "Queue: 10 20 30 \n",
            "Dequeued: 10\n",
            "Queue: 20 30 \n",
            "Element 20 found at index 1\n",
            "Element not found\n"
          ]
        }
      ]
    }
  ]
}